{
 "cells": [
  {
   "cell_type": "markdown",
   "metadata": {},
   "source": [
    "# API Exercises"
   ]
  },
  {
   "cell_type": "markdown",
   "metadata": {},
   "source": [
    "Here are two exercises that involve working with APIs and dictionaries.\n",
    "\n",
    "One is using the Open Brewery API found at https://www.openbrewerydb.org/, and the other is using the API for UK Police Data, found at https://data.police.uk/docs/.\n",
    "\n",
    "You can complete them in either order!\n",
    "\n",
    "Remember that you can create new cells with esc + a or b"
   ]
  },
  {
   "cell_type": "markdown",
   "metadata": {},
   "source": [
    "## Breweries"
   ]
  },
  {
   "cell_type": "markdown",
   "metadata": {},
   "source": [
    "### Q1: Load the first page of results with 50 results per page"
   ]
  },
  {
   "cell_type": "code",
   "execution_count": 2,
   "metadata": {},
   "outputs": [],
   "source": [
    "import requests\n",
    "import json\n",
    "import pandas as pd"
   ]
  },
  {
   "cell_type": "code",
   "execution_count": 3,
   "metadata": {},
   "outputs": [
    {
     "data": {
      "text/plain": [
       "50"
      ]
     },
     "execution_count": 3,
     "metadata": {},
     "output_type": "execute_result"
    }
   ],
   "source": [
    "url = 'https://api.openbrewerydb.org/breweries?page=1&per_page=50'\n",
    "response = requests.get(url).json()\n",
    "len(response)\n"
   ]
  },
  {
   "cell_type": "code",
   "execution_count": 4,
   "metadata": {},
   "outputs": [],
   "source": [
    "df1=pd.DataFrame(response)"
   ]
  },
  {
   "cell_type": "markdown",
   "metadata": {},
   "source": [
    "### Q2: This is only the first 50 results.  Get the next 50 and put them together."
   ]
  },
  {
   "cell_type": "code",
   "execution_count": 5,
   "metadata": {},
   "outputs": [
    {
     "data": {
      "text/plain": [
       "50"
      ]
     },
     "execution_count": 5,
     "metadata": {},
     "output_type": "execute_result"
    }
   ],
   "source": [
    "url = 'https://api.openbrewerydb.org/breweries?page=2&per_page=50'\n",
    "response2 = requests.get(url).json()\n",
    "len(response2)\n"
   ]
  },
  {
   "cell_type": "code",
   "execution_count": 6,
   "metadata": {},
   "outputs": [],
   "source": [
    "df2=pd.DataFrame(response2)"
   ]
  },
  {
   "cell_type": "code",
   "execution_count": 7,
   "metadata": {},
   "outputs": [],
   "source": [
    "df=pd.concat([df1,df2])"
   ]
  },
  {
   "cell_type": "markdown",
   "metadata": {},
   "source": [
    "### Q3: How many of these 100 breweries in are in Alaska?"
   ]
  },
  {
   "cell_type": "code",
   "execution_count": 8,
   "metadata": {},
   "outputs": [
    {
     "data": {
      "text/plain": [
       "3"
      ]
     },
     "execution_count": 8,
     "metadata": {},
     "output_type": "execute_result"
    }
   ],
   "source": [
    "len(df[df.state=='Alaska'])"
   ]
  },
  {
   "cell_type": "markdown",
   "metadata": {},
   "source": [
    "### Q4: Of these 100 breweries, what are the different unique brewery types?"
   ]
  },
  {
   "cell_type": "code",
   "execution_count": 9,
   "metadata": {},
   "outputs": [
    {
     "data": {
      "text/plain": [
       "array(['micro', 'contract', 'brewpub', 'regional', 'planning',\n",
       "       'proprietor'], dtype=object)"
      ]
     },
     "execution_count": 9,
     "metadata": {},
     "output_type": "execute_result"
    }
   ],
   "source": [
    "df.brewery_type.unique()\n"
   ]
  },
  {
   "cell_type": "code",
   "execution_count": 10,
   "metadata": {},
   "outputs": [
    {
     "data": {
      "text/html": [
       "<div>\n",
       "<style scoped>\n",
       "    .dataframe tbody tr th:only-of-type {\n",
       "        vertical-align: middle;\n",
       "    }\n",
       "\n",
       "    .dataframe tbody tr th {\n",
       "        vertical-align: top;\n",
       "    }\n",
       "\n",
       "    .dataframe thead th {\n",
       "        text-align: right;\n",
       "    }\n",
       "</style>\n",
       "<table border=\"1\" class=\"dataframe\">\n",
       "  <thead>\n",
       "    <tr style=\"text-align: right;\">\n",
       "      <th></th>\n",
       "      <th>brewery_type</th>\n",
       "      <th>city</th>\n",
       "      <th>country</th>\n",
       "      <th>id</th>\n",
       "      <th>latitude</th>\n",
       "      <th>longitude</th>\n",
       "      <th>name</th>\n",
       "      <th>phone</th>\n",
       "      <th>postal_code</th>\n",
       "      <th>state</th>\n",
       "      <th>street</th>\n",
       "      <th>tag_list</th>\n",
       "      <th>updated_at</th>\n",
       "      <th>website_url</th>\n",
       "    </tr>\n",
       "  </thead>\n",
       "  <tbody>\n",
       "    <tr>\n",
       "      <th>0</th>\n",
       "      <td>micro</td>\n",
       "      <td>Birmingham</td>\n",
       "      <td>United States</td>\n",
       "      <td>2</td>\n",
       "      <td>33.524521</td>\n",
       "      <td>-86.774322</td>\n",
       "      <td>Avondale Brewing Co</td>\n",
       "      <td>2057775456</td>\n",
       "      <td>35222-1932</td>\n",
       "      <td>Alabama</td>\n",
       "      <td>201 41st St S</td>\n",
       "      <td>[]</td>\n",
       "      <td>2018-08-23T23:19:57.825Z</td>\n",
       "      <td>http://www.avondalebrewing.com</td>\n",
       "    </tr>\n",
       "    <tr>\n",
       "      <th>1</th>\n",
       "      <td>micro</td>\n",
       "      <td>Tuscaloosa</td>\n",
       "      <td>United States</td>\n",
       "      <td>4</td>\n",
       "      <td>33.1984907123707</td>\n",
       "      <td>-87.5621551272424</td>\n",
       "      <td>Band of Brothers Brewing Company</td>\n",
       "      <td>2052665137</td>\n",
       "      <td>35401-4653</td>\n",
       "      <td>Alabama</td>\n",
       "      <td>1605 23rd Ave</td>\n",
       "      <td>[]</td>\n",
       "      <td>2018-08-23T23:19:59.462Z</td>\n",
       "      <td>http://www.bandofbrosbrewing.com</td>\n",
       "    </tr>\n",
       "    <tr>\n",
       "      <th>2</th>\n",
       "      <td>micro</td>\n",
       "      <td>Birmingham</td>\n",
       "      <td>United States</td>\n",
       "      <td>44</td>\n",
       "      <td>33.5128492349817</td>\n",
       "      <td>-86.7914000624146</td>\n",
       "      <td>Trim Tab Brewing</td>\n",
       "      <td>2057030536</td>\n",
       "      <td>35233-3401</td>\n",
       "      <td>Alabama</td>\n",
       "      <td>2721 5th Ave S</td>\n",
       "      <td>[]</td>\n",
       "      <td>2018-08-23T23:20:31.423Z</td>\n",
       "      <td>http://www.trimtabbrewing.com</td>\n",
       "    </tr>\n",
       "    <tr>\n",
       "      <th>3</th>\n",
       "      <td>micro</td>\n",
       "      <td>Huntsville</td>\n",
       "      <td>United States</td>\n",
       "      <td>46</td>\n",
       "      <td>34.7277523</td>\n",
       "      <td>-86.5932014</td>\n",
       "      <td>Yellowhammer Brewery</td>\n",
       "      <td>2569755950</td>\n",
       "      <td>35805-3046</td>\n",
       "      <td>Alabama</td>\n",
       "      <td>2600 Clinton Ave W</td>\n",
       "      <td>[]</td>\n",
       "      <td>2018-08-23T23:20:33.102Z</td>\n",
       "      <td>http://www.yellowhammerbrewery.com</td>\n",
       "    </tr>\n",
       "    <tr>\n",
       "      <th>4</th>\n",
       "      <td>micro</td>\n",
       "      <td>Wasilla</td>\n",
       "      <td>United States</td>\n",
       "      <td>55</td>\n",
       "      <td>61.5752695</td>\n",
       "      <td>-149.4127103</td>\n",
       "      <td>Bearpaw River Brewing Co</td>\n",
       "      <td></td>\n",
       "      <td>99654-7679</td>\n",
       "      <td>Alaska</td>\n",
       "      <td>4605 E Palmer Wasilla Hwy</td>\n",
       "      <td>[]</td>\n",
       "      <td>2018-08-23T23:20:40.743Z</td>\n",
       "      <td>http://bearpawriverbrewing.com</td>\n",
       "    </tr>\n",
       "  </tbody>\n",
       "</table>\n",
       "</div>"
      ],
      "text/plain": [
       "  brewery_type        city        country  id          latitude  \\\n",
       "0        micro  Birmingham  United States   2         33.524521   \n",
       "1        micro  Tuscaloosa  United States   4  33.1984907123707   \n",
       "2        micro  Birmingham  United States  44  33.5128492349817   \n",
       "3        micro  Huntsville  United States  46        34.7277523   \n",
       "4        micro     Wasilla  United States  55        61.5752695   \n",
       "\n",
       "           longitude                              name       phone  \\\n",
       "0         -86.774322               Avondale Brewing Co  2057775456   \n",
       "1  -87.5621551272424  Band of Brothers Brewing Company  2052665137   \n",
       "2  -86.7914000624146                  Trim Tab Brewing  2057030536   \n",
       "3        -86.5932014              Yellowhammer Brewery  2569755950   \n",
       "4       -149.4127103          Bearpaw River Brewing Co               \n",
       "\n",
       "  postal_code    state                     street tag_list  \\\n",
       "0  35222-1932  Alabama              201 41st St S       []   \n",
       "1  35401-4653  Alabama              1605 23rd Ave       []   \n",
       "2  35233-3401  Alabama             2721 5th Ave S       []   \n",
       "3  35805-3046  Alabama         2600 Clinton Ave W       []   \n",
       "4  99654-7679   Alaska  4605 E Palmer Wasilla Hwy       []   \n",
       "\n",
       "                 updated_at                         website_url  \n",
       "0  2018-08-23T23:19:57.825Z      http://www.avondalebrewing.com  \n",
       "1  2018-08-23T23:19:59.462Z    http://www.bandofbrosbrewing.com  \n",
       "2  2018-08-23T23:20:31.423Z       http://www.trimtabbrewing.com  \n",
       "3  2018-08-23T23:20:33.102Z  http://www.yellowhammerbrewery.com  \n",
       "4  2018-08-23T23:20:40.743Z      http://bearpawriverbrewing.com  "
      ]
     },
     "execution_count": 10,
     "metadata": {},
     "output_type": "execute_result"
    }
   ],
   "source": [
    "df.head()"
   ]
  },
  {
   "cell_type": "markdown",
   "metadata": {},
   "source": [
    "### Q5: What is the cloest brewery to \"Devil's Potion Brewing Company LLC\" ?\n",
    "* Hint 1: Use Euclidian distance w/ longitude and latitude (assume longitude and latitude are a Carteisan coordinate system)\n",
    "* Hint 2: You'll have to ignore the entries with \"none\" for latitude or longitude"
   ]
  },
  {
   "cell_type": "code",
   "execution_count": 11,
   "metadata": {},
   "outputs": [],
   "source": [
    "def closest_brewery(name):\n",
    "    cl=df[df.name!=name]\n",
    "    lat=float(df[df.name==name].latitude.min())\n",
    "    lon=float(df[df.name==name].longitude.min())\n",
    "    cl.fillna(99999)\n",
    "    cl['dis']= (cl.latitude.astype(float) - lat)**2 + (cl.longitude.astype(float) - lon)**2\n",
    "    cl['dis']= cl['dis']**.5 \n",
    "    cl=cl.sort_values(by=['dis'])\n",
    "    \n",
    "\n",
    "\n",
    "    return cl.iloc[0]\n",
    "    \n",
    "    \n"
   ]
  },
  {
   "cell_type": "code",
   "execution_count": 12,
   "metadata": {},
   "outputs": [
    {
     "name": "stderr",
     "output_type": "stream",
     "text": [
      "/opt/conda/envs/learn-env/lib/python3.6/site-packages/ipykernel_launcher.py:6: SettingWithCopyWarning: \n",
      "A value is trying to be set on a copy of a slice from a DataFrame.\n",
      "Try using .loc[row_indexer,col_indexer] = value instead\n",
      "\n",
      "See the caveats in the documentation: http://pandas.pydata.org/pandas-docs/stable/indexing.html#indexing-view-versus-copy\n",
      "  \n",
      "/opt/conda/envs/learn-env/lib/python3.6/site-packages/ipykernel_launcher.py:7: SettingWithCopyWarning: \n",
      "A value is trying to be set on a copy of a slice from a DataFrame.\n",
      "Try using .loc[row_indexer,col_indexer] = value instead\n",
      "\n",
      "See the caveats in the documentation: http://pandas.pydata.org/pandas-docs/stable/indexing.html#indexing-view-versus-copy\n",
      "  import sys\n"
     ]
    },
    {
     "data": {
      "text/plain": [
       "brewery_type                               micro\n",
       "city                                  San Marcos\n",
       "country                            United States\n",
       "id                                           924\n",
       "latitude                               33.141537\n",
       "longitude                            -117.149141\n",
       "name            Port Brewing Co / The Lost Abbey\n",
       "phone                                 8009186816\n",
       "postal_code                           92069-2983\n",
       "state                                 California\n",
       "street                      155 Mata Way Ste 104\n",
       "tag_list                                      []\n",
       "updated_at              2018-08-24T00:01:07.397Z\n",
       "website_url           http://www.portbrewing.com\n",
       "dis                                    0.0705113\n",
       "Name: 23, dtype: object"
      ]
     },
     "execution_count": 12,
     "metadata": {},
     "output_type": "execute_result"
    }
   ],
   "source": [
    "closest_brewery(\"Devil's Potion Brewing Company LLC\")"
   ]
  },
  {
   "cell_type": "markdown",
   "metadata": {},
   "source": [
    "### Q6: Write a function to find the closest brewery to any other given brewery"
   ]
  },
  {
   "cell_type": "code",
   "execution_count": null,
   "metadata": {},
   "outputs": [],
   "source": [
    "\n"
   ]
  },
  {
   "cell_type": "markdown",
   "metadata": {},
   "source": [
    "### Q7: How would you get the first 10 pages from this API and put them all together using a for loop?"
   ]
  },
  {
   "cell_type": "code",
   "execution_count": 13,
   "metadata": {},
   "outputs": [],
   "source": [
    "pag=range(1,11)\n",
    "dfs=[]\n",
    "for p in pag:\n",
    "    url = 'https://api.openbrewerydb.org/breweries?page=' + str(p) +'&per_page=50'\n",
    "    js= requests.get(url).json()\n",
    "    df= pd.DataFrame(response)\n",
    "    dfs.append(df)\n",
    "    \n",
    "\n"
   ]
  },
  {
   "cell_type": "markdown",
   "metadata": {},
   "source": [
    "# Crime in the UK"
   ]
  },
  {
   "cell_type": "markdown",
   "metadata": {},
   "source": [
    "### We will be analyzing different crimes reported in the UK as provided by https://data.police.uk/docs/"
   ]
  },
  {
   "cell_type": "markdown",
   "metadata": {},
   "source": [
    "# Exploratory analysis\n",
    "##### 1. How many total crimes were there at latitude : 52.63902 and -1.131321 on November of 2017.\n",
    "Use the street level crimes data, the documentation for the API can be found at https://data.police.uk/docs/method/crime-street/"
   ]
  },
  {
   "cell_type": "code",
   "execution_count": 54,
   "metadata": {},
   "outputs": [],
   "source": [
    "parameters={'lat': 52.63902, 'lng': -1.131321, 'date': (2017-11)}\n",
    "\n",
    "url= 'https://data.police.uk/docs/method/crime-street/'\n",
    "    \n",
    "response = requests.get(url, params=parameters)\n",
    "\n"
   ]
  },
  {
   "cell_type": "code",
   "execution_count": 64,
   "metadata": {},
   "outputs": [
    {
     "data": {
      "text/plain": [
       "b'\\n<!doctype html>\\n\\n<!--[if lt IE 7]><html class=\"no-js lt-ie9 lt-ie8 lt-ie7\" lang=\"en\" \\n><![endif]-->\\n<!--[if (IE 7)&!(IEMobile)]><html class=\"no-js lt-ie9 lt-ie8 ie7\" lang=\"en\" \\n><![endif]-->\\n<!--[if (IE 8)&!(IEMobile)]><html class=\"no-js lt-ie9 ie8\" lang=\"en\" \\n><![endif]-->\\n    <!--[if gt IE 8]><!--><html class=\"no-js\" lang=\"en\" \\n><!--<![endif]-->\\n    <head>\\n        <title>Street-level crimes | data.police.uk</title>\\n\\n        <meta charset=\"utf-8\">\\n        <meta name=\"viewport\" content=\"width=device-width, initial-scale=1.0\">\\n        <meta http-equiv=\"X-UA-Compatible\" content=\"IE=edge,chrome=1\">\\n\\n        <meta name=\"mobile-web-app-capable\" content=\"yes\"/>\\n\\n        <meta name=\"description\" content=\"\">\\n\\n        <link href=\"/static/css/base.min.d44d84d28c1e.css\" rel=\"stylesheet\" type=\"text/css\" />\\n\\n        <!--[if lt IE 8]>\\n        <link href=\"/static/css/ie7.min.8861f08901c8.css\" rel=\"stylesheet\" type=\"text/css\" />\\n        <![endif]-->\\n\\n        <script src=\"/static/js/libs/modernizr-3.6.0-min.js\"></script>\\n        <script src=\"/jsi18n/\"></script>\\n\\n        <link rel=\"shortcut icon\" href=\"/static/img/favicon.ico\"/>\\n        <link rel=\"shortcut icon\" sizes=\"196x196\" href=\"/static/img/shortcut-icon-196x196.png\"/>\\n        <link rel=\"apple-touch-icon-precomposed\" sizes=\"144x144\" href=\"/static/img/shortcut-icon-144x144.png\"/>\\n        <link rel=\"apple-touch-icon-precomposed\" sizes=\"114x114\" href=\"/static/img/shortcut-icon-114x114.png\"/>\\n        <link rel=\"apple-touch-icon-precomposed\" sizes=\"72x72\" href=\"/static/shortcut-icon-72x72.png\"/>\\n        <link rel=\"apple-touch-icon-precomposed\" href=\"/static/shortcut-icon-57x57.png\"/>\\n\\n        \\n    \\n    <link href=\"/static/css/docs.min.b479d83658b1.css\" rel=\"stylesheet\" type=\"text/css\" />\\n    \\n\\n    <link href=\"/static/css/method.min.a00095b0388b.css\" rel=\"stylesheet\" type=\"text/css\" />\\n\\n\\n        <script>\\n            Modernizr.mq(\\'(min-width:0)\\') || document.write(\\'<script src=\"/static/js/libs/respond.min.js\">\\\\x3C/script>\\');\\n        </script>\\n    </head>\\n\\n    <body class=\"home\">\\n\\n        <a href=\"#content\" id=\"skipnav\">Skip to main content</a>\\n\\n        \\n            <ul id=\"messages\">\\n                \\n                    <li class=\"info\" role=\"alert\"><div class=\"inner\">data.police.uk uses cookies to make the site simpler. <a href=\"https://www.police.uk/cookies/\">Find out more about cookies</a></div></li>\\n                \\n            </ul>\\n        \\n\\n        <header role=\"banner\">\\n            <div class=\"inner\">\\n\\n                <a id=\"logo\" href=\"/\" title=\"Go to the data.police.uk home page\"><img src=\"/static/img/logo.png\"/></a>\\n\\n            </div>\\n\\n            <div id=\"content_header\">\\n                <div class=\"inner\">\\n                    <p id=\"shownav\"><a href=\"#navigation\">Menu</a></p>\\n\\n                    <nav role=\"navigation\" id=\"navigation\" class=\"main\">\\n                    \\n    \\n\\n\\n\\n<ul>\\n    <li class=\"\">\\n    <a href=\"/\">Home</a>\\n    </li>\\n    <li class=\"\">\\n    <a href=\"/data/\">Data</a>\\n    </li>\\n    <li class=\"active\">\\n        <a href=\"/docs/\">API</a>\\n    </li>\\n    <li class=\"\">\\n        <a href=\"/changelog/\">Changelog</a>\\n    </li>\\n    <li class=\"\">\\n        <a href=\"/contact/\">Contact</a>\\n    </li>\\n    <li class=\"\">\\n        <a href=\"/about/\">About</a>\\n    </li>\\n    <li class=\"lang\">\\n        \\n        \\n\\n        \\n            \\n        \\n            \\n                <form action=\"/i18n/setlang/\" method=\"post\">\\n                    <input type=\\'hidden\\' name=\\'csrfmiddlewaretoken\\' value=\\'hIuPOe0hgkv5AgGLlP8l0KCB63vPfaUP\\' />\\n                    <input type=\"hidden\" name=\"language\" value=\"cy\">\\n                    <input type=\"submit\" value=\"Cymraeg\"/>\\n                </form>\\n            \\n        \\n    </li>\\n</ul>\\n\\n\\n                    </nav>\\n                </div>\\n            </div>\\n        </header>\\n\\n        <div id=\"content\">\\n            \\n<p id=\"breadcrumb\"><a href=\"/\">Home</a> &gt;\\n    <a href=\"/docs/\">Police API Documentation</a> &gt;</p>\\n\\n            <div role=\"main\">\\n                \\n    <h1>Street-level crimes</h1>\\n\\n    <div>\\n        \\n    <p>Crimes at street-level; either within a 1 mile radius of a single point, or within a custom area.</p>\\n\\n    <p class=\"note\">\\n        The street-level crimes returned in the API are only an approximation of where the actual crimes occurred, they are <strong>not</strong> the exact locations.\\n        \\n        See <a href=\"/about/#location-anonymisation\">the about page</a> for more information about location anonymisation.\\n    </p>\\n\\n    \\n<p class=\"note\">\\n    If you\\'re allowing users to search for locations in Scotland, please make it clear that, since only the British Transport Police provide data for Scotland, crime levels may appear much lower than they really are.\\n</p>\\n\\n\\n\\n    </div>\\n\\n    \\n    <h2>Request parameters</h2>\\n\\n    <h3>Specific point</h3>\\n\\n    <table class=\\'params\\'>\\n        <tr>\\n            <td>lat</td>\\n            <td class=\"desc\">Latitude of the requested crime area</td>\\n        </tr>\\n        <tr>\\n            <td>lng</td>\\n            <td class=\"desc\">Longitude of the requested crime area</td>\\n        </tr>\\n        <tr>\\n            <td>date</td>\\n            <td class=\"desc\"><strong>Optional</strong>. (YYYY-MM) Limit results to a specific month.<br /> The latest month will be shown by default</td>\\n        </tr>\\n    </table>\\n\\n    <h3>Custom area</h3>\\n\\n    <table class=\\'params\\'>\\n        <tr>\\n            <td>poly</td>\\n            <td class=\"desc\">The lat/lng pairs which define the boundary of the custom area</td>\\n        </tr>\\n        <tr>\\n            <td>date</td>\\n            <td class=\"desc\"><strong>Optional</strong>. (YYYY-MM) Limit results to a specific month.<br /> The latest month will be shown by default</td>\\n        </tr>\\n    </table>\\n\\n    <p>If a custom area contains more than 10,000 crimes, the API will return a <strong>503</strong> status code.</p>\\n\\n    <p>The <code>poly</code> parameter is formatted in lat/lng pairs, separated by colons:</p>\\n\\n    <pre>[lat],[lng]:[lat],[lng]:[lat],[lng]</pre>\\n\\n    <p>The first and last coordinates need not be the same \\xe2\\x80\\x94 they will be joined by a straight line once the request is made.</p>\\n\\n    <p>The API will return a <strong>400</strong> status code in response to a GET request longer than 4094 characters. For submitting particularly complex <code>poly</code> parameters, consider using POST instead.</p>\\n\\n    <h3>Crime category</h3>\\n\\n    \\n    <p>You can provide any <a href=\"/docs/method/crime-categories/\">crime category</a> as part of the request URL. In the examples below, we use <code>all-crime</code>.</p>\\n\\n\\n\\n    <h2>Example request</h2>\\n\\n    \\n    <h3>Specific point</h3>\\n\\n    <p>https://data.police.uk/api/crimes-street/all-crime?<strong>lat</strong>=52.629729&amp;<strong>lng</strong>=-1.131592&amp;<strong>date</strong>=2017-01</p>\\n\\n    <h3>Custom area</h3>\\n\\n    <p>https://data.police.uk/api/crimes-street/all-crime?<strong>poly</strong>=52.268,0.543:52.794,0.238:52.130,0.478&amp;<strong>date</strong>=2017-01</p>\\n\\n\\n    <h2>Example response</h2>\\n\\n    \\n        <pre><code>[\\n    {\\n        \"category\": \"anti-social-behaviour\",\\n        \"location_type\": \"Force\",\\n        \"location\": {\\n            \"latitude\": \"52.640961\",\\n            \"street\": {\\n                \"id\": 884343,\\n                \"name\": \"On or near Wharf Street North\"\\n            },\\n            \"longitude\": \"-1.126371\"\\n        },\\n        \"context\": \"\",\\n        \"outcome_status\": null,\\n        \"persistent_id\": \"\",\\n        \"id\": 54164419,\\n        \"location_subtype\": \"\",\\n        \"month\": \"2017-01\"\\n    },\\n    {\\n        \"category\": \"anti-social-behaviour\",\\n        \"location_type\": \"Force\",\\n        \"location\": {\\n            \"latitude\": \"52.633888\",\\n            \"street\": {\\n                \"id\": 883425,\\n                \"name\": \"On or near Peacock Lane\"\\n            },\\n            \"longitude\": \"-1.138924\"\\n        },\\n        \"context\": \"\",\\n        \"outcome_status\": null,\\n        \"persistent_id\": \"\",\\n        \"id\": 54165316,\\n        \"location_subtype\": \"\",\\n        \"month\": \"2017-01\"\\n    },\\n    ...\\n]</code></pre>\\n    \\n\\n    <h2>Response description</h2>\\n\\n    \\n        <table>\\n            <thead>\\n                <tr>\\n                    <th>Tag</th>\\n                    <th>Description</th>\\n                </tr>\\n            </thead>\\n            <tbody>\\n                \\n<tr>\\n    <th>category</th>\\n    <td class=\"desc\"><a href=\"/docs/method/crime-categories/\">Category of the crime</a></td>\\n</tr>\\n<tr>\\n    <th>persistent_id</th>\\n    <td class=\"desc\">64-character unique identifier for that crime. (This is different to the existing \\'id\\' attribute, which is not guaranteed to always stay the same for each crime.)</td>\\n</tr>\\n<tr>\\n    <th>month</th>\\n    <td class=\"desc\">Month of the crime</td>\\n</tr>\\n\\n<tr>\\n    <th class=\"\">location</th>\\n    <td class=\"desc\">\\n        \\n        <a href=\"/about/#location-anonymisation\">Approximate</a> location of the incident\\n    </td>\\n</tr>\\n\\n    <tr>\\n        <th class=\"i1\">latitude</th>\\n        <td class=\"desc\">Latitude</td>\\n    </tr>\\n    <tr>\\n        <th class=\"i1\">street</th>\\n        <td class=\"desc\">The approximate street the crime occurred</td>\\n    </tr>\\n        <tr>\\n            <th class=\"i2\">id</th>\\n            <td class=\"desc\">Unique identifier for the street</td>\\n        </tr>\\n        <tr>\\n            <th class=\"i2\">name</th>\\n            <td class=\"desc\">Name of the location.<br/><strong>This is only an approximation of where the crime happened</strong></td>\\n        </tr>\\n    <tr>\\n        <th class=\"i1\">longitude</th>\\n        <td class=\"desc\">Longitude</td>\\n    </tr>\\n<tr>\\n    <th>context</th>\\n    <td class=\"desc\">Extra information about the crime (if applicable)</td>\\n</tr>\\n<tr>\\n    <th>id</th>\\n    <td class=\"desc\">ID of the crime.<br/><strong>This ID only relates to the API, it is NOT a police identifier</strong></td>\\n</tr>\\n<tr>\\n    <th>location_type</th>\\n    <td class=\"desc\">The type of the location. Either <em>Force</em> or <em>BTP</em>: <em>Force</em> indicates a normal police force location; <em>BTP</em> indicates a British Transport Police location. BTP locations fall within normal police force boundaries.</td>\\n</tr>\\n<tr>\\n    <th>location_subtype</th>\\n    <td class=\"desc\">For BTP locations, the type of location at which this crime was recorded.</td>\\n</tr>\\n<tr>\\n    <th>outcome_status</th>\\n    <td class=\"desc\">The category and date of the latest recorded outcome for the crime</td>\\n</tr>\\n    <tr>\\n        <th class=\"i1\">category</th>\\n        <td class=\"desc\">Category of the outcome<br /><strong>The full category name is returned</strong><br /><strong>IMPORTANT NOTE: This element may not be present for all crimes</strong><br /><br />\\n    <table>\\n        <thead>\\n            <tr>\\n                <th>Code</th>\\n                <th>Name</th>\\n            </tr>\\n        </thead>\\n        <tbody>\\n            \\n\\n<tr>\\n    <td>awaiting-court-result</td>\\n    <td class=\"desc\">Awaiting court outcome</td>\\n</tr>\\n<tr>\\n    <td>court-result-unavailable</td>\\n    <td class=\"desc\">Court result unavailable</td>\\n</tr>\\n<tr>\\n    <td>unable-to-proceed</td>\\n    <td class=\"desc\">Court case unable to proceed</td>\\n</tr>\\n<tr>\\n    <td>local-resolution</td>\\n    <td class=\"desc\">Local resolution</td>\\n</tr>\\n<tr>\\n    <td>no-further-action</td>\\n    <td class=\"desc\">Investigation complete; no suspect identified</td>\\n</tr>\\n<tr>\\n    <td>deprived-of-property</td>\\n    <td class=\"desc\">Offender deprived of property</td>\\n</tr>\\n<tr>\\n    <td>fined</td>\\n    <td class=\"desc\">Offender fined</td>\\n</tr>\\n<tr>\\n    <td>absolute-discharge</td>\\n    <td class=\"desc\">Offender given absolute discharge</td>\\n</tr>\\n<tr>\\n    <td>cautioned</td>\\n    <td class=\"desc\">Offender given a caution</td>\\n</tr>\\n<tr>\\n    <td>drugs-possession-warning</td>\\n    <td class=\"desc\">Offender given a drugs possession warning</td>\\n</tr>\\n<tr>\\n    <td>penalty-notice-issued</td>\\n    <td class=\"desc\">Offender given a penalty notice</td>\\n</tr>\\n<tr>\\n    <td>community-penalty</td>\\n    <td class=\"desc\">Offender given community sentence</td>\\n</tr>\\n<tr>\\n    <td>conditional-discharge</td>\\n    <td class=\"desc\">Offender given conditional discharge</td>\\n</tr>\\n<tr>\\n    <td>suspended-sentence</td>\\n    <td class=\"desc\">Offender given suspended prison sentence</td>\\n</tr>\\n<tr>\\n    <td>imprisoned</td>\\n    <td class=\"desc\">Offender sent to prison</td>\\n</tr>\\n<tr>\\n    <td>other-court-disposal</td>\\n    <td class=\"desc\">Offender otherwise dealt with</td>\\n</tr>\\n<tr>\\n    <td>compensation</td>\\n    <td class=\"desc\">Offender ordered to pay compensation</td>\\n</tr>\\n<tr>\\n    <td>sentenced-in-another-case</td>\\n    <td class=\"desc\">Suspect charged as part of another case</td>\\n</tr>\\n<tr>\\n    <td>charged</td>\\n    <td class=\"desc\">Suspect charged</td>\\n</tr>\\n<tr>\\n    <td>not-guilty</td>\\n    <td class=\"desc\">Defendant found not guilty</td>\\n</tr>\\n<tr>\\n    <td>sent-to-crown-court</td>\\n    <td class=\"desc\">Defendant sent to Crown Court</td>\\n</tr>\\n<tr>\\n    <td>unable-to-prosecute</td>\\n    <td class=\"desc\">Unable to prosecute suspect</td>\\n</tr>\\n<tr>\\n    <td>formal-action-not-in-public-interest</td>\\n    <td class=\"desc\">Formal action is not in the public interest</td>\\n</tr>\\n<tr>\\n    <td>action-taken-by-another-organisation</td>\\n    <td class=\"desc\">Action to be taken by another organisation</td>\\n</tr>\\n<tr>\\n    <td>further-investigation-not-in-public-interest</td>\\n    <td class=\"desc\">Further investigation is not in the public interest</td>\\n</tr>\\n<tr>\\n    <td>under-investigation</td>\\n    <td class=\"desc\">Under investigation</td>\\n</tr>\\n<tr>\\n    <td>status-update-unavailable</td>\\n    <td class=\"desc\">Status update unavailable</td>\\n</tr>\\n\\n        </tbody>\\n    </table></td>\\n    </tr>\\n    <tr>\\n        <th class=\"i1\">date</th>\\n        <td class=\"desc\">Date of the outcome</td>\\n    </tr>\\n\\n            </tbody>\\n        </table>\\n    \\n\\n\\n            </div>\\n        </div>\\n\\n        \\n\\n<p id=\"show_nav\"><a href=\"\">API Methods</a></p>\\n<p id=\"hide_nav\"><a title=\"Hide API Methods\" href=\"\"><i class=\"icon-chevron-right\"></i></a></p>\\n\\n\\n<nav role=\"navigation\" id=\"api_nav\">\\n\\n    <ul>\\n        <li><a href=\"/docs/authentication/\" title=\"Police API authentication\">Authentication</a></li>\\n        <li><a href=\"/docs/api-call-limits/\" title=\"API call limits\">API call limits</a></li>\\n    </ul>\\n\\n    <h5>Methods</h5>\\n\\n    <ul>\\n        <li><a href=\"/docs/method/crimes-street-dates/\" title=\"List of available dates for crime and stop and search data\">Availability</a></li>\\n    </ul>\\n\\n    <h6>Force related</h6>\\n\\n    <ul>\\n        <li><a href=\"/docs/method/forces/\" title=\"List of all the forces\">Forces</a></li>\\n        <li><a href=\"/docs/method/force/\" title=\"Specific force\">Specific force</a></li>\\n        <li><a href=\"/docs/method/senior-officers/\" title=\"Force senior officers\">Force senior officers</a></li>\\n    </ul>\\n\\n    <h6>Crime related</h6>\\n\\n    <ul>\\n        <li><a href=\"/docs/method/crime-street/\" title=\"Street level crime data\">Street level crimes</a></li>\\n        <li><a href=\"/docs/method/outcomes-at-location/\" title=\"Outcomes at street-level; either at a specific location, within a 1 mile radius of a single point, or within a custom area.\">Street level outcomes</a></li>\\n        <li><a href=\"/docs/method/crimes-at-location/\" title=\"Returns just the crimes which occurred at the specified location, rather than those within a radius. If given latitude and longitude, finds the nearest pre-defined location and returns the crimes which occurred there.\">Crimes at location</a></li>\\n        <li><a href=\"/docs/method/crimes-no-location/\" title=\"Street level crimes with no location\">Crimes with no location</a></li>\\n        <li><a href=\"/docs/method/crime-categories/\" title=\"List of all the crime categories available in the API\">Crime categories</a></li>\\n        <li><a href=\"/docs/method/crime-last-updated/\" title=\"Last time the crime data was updated\">Last updated</a></li>\\n        <li><a href=\"/docs/method/outcomes-for-crime/\" title=\"Returns the outcomes (case history) for the specified crime.\">Outcomes for a specific crime</a></li>\\n    </ul>\\n\\n    <h6>Neighbourhood related</h6>\\n\\n    <ul>\\n        <li><a href=\"/docs/method/neighbourhoods/\" title=\"List of all the neighbourhoods for a force\">Neighbourhoods</a></li>\\n        <li><a href=\"/docs/method/neighbourhood/\" title=\"Specific neighbourhood details\">Specific neighbourhood</a></li>\\n        <li><a href=\"/docs/method/neighbourhood-boundary/\" title=\"Neighbourhood boundary\">Neighbourhood boundary</a></li>\\n        <li><a href=\"/docs/method/neighbourhood-team/\" title=\"Neighbourhood team\">Neighbourhood team</a></li>\\n        <li><a href=\"/docs/method/neighbourhood-events/\" title=\"Neighbourhood events\">Neighbourhood events</a></li>\\n        <li><a href=\"/docs/method/neighbourhood-priorities/\" title=\"Neighbourhood priorities\">Neighbourhood priorities</a></li>\\n        <li><a href=\"/docs/method/neighbourhood-locate/\" title=\"Locate a neighbourhood\">Locate neighbourhood</a></li>\\n    </ul>\\n\\n    <h6>Stop and search related</h6>\\n\\n    <ul>\\n        <li><a href=\"/docs/method/stops-street/\" title=\"Stop and searches in a given area\">Stop and searches by area</a></li>\\n        <li><a href=\"/docs/method/stops-at-location/\" title=\"Stop and searches at a given point\">Stop and searches by location</a></li>\\n        <li><a href=\"/docs/method/stops-no-location/\" title=\"Stop and searches with no location data\">Stop and searches with no location</a></li>\\n        <li><a href=\"/docs/method/stops-force/\" title=\"All stop and searches for a particular police force\">Stop and searches by force</a></li>\\n    </ul>\\n\\n</nav>\\n\\n\\n\\n\\n        <footer role=\"contentinfo\">\\n            <div class=\"inner\">\\n                <p id=\"footer_links\">\\n                    <a href=\"https://www.police.uk/cookies/\">Cookies</a>\\n                </p>\\n\\n                <a id=\"home_office\" href=\"https://www.gov.uk/government/organisations/home-office\" class=\"rm-external\">\\n                    <img src=\"/static/img/home-office.svg\" data-svgswap=\"/static/img/home-office.png\" alt=\"Home Office\"/>\\n                </a>\\n            </div>\\n        </footer>\\n\\n        <script   type=\"text/javascript\" src=\"/static/js/base.min.67b5b0c5b405.js\" charset=\"utf-8\"></script>\\n\\n        \\n    <script   type=\"text/javascript\" src=\"/static/js/method.min.ee83e5281c8c.js\" charset=\"utf-8\"></script>\\n\\n\\n        <script>\\n            (function(i,s,o,g,r,a,m){i[\\'GoogleAnalyticsObject\\']=r;i[r]=i[r]||function(){\\n            (i[r].q=i[r].q||[]).push(arguments)},i[r].l=1*new Date();a=s.createElement(o),\\n            m=s.getElementsByTagName(o)[0];a.async=1;a.src=g;m.parentNode.insertBefore(a,m)\\n            })(window,document,\\'script\\',\\'//www.google-analytics.com/analytics.js\\',\\'ga\\');\\n\\n            ga(\\'create\\', \\'UA-6558562-35\\', \\'data.police.uk\\');\\n            ga(\\'send\\', \\'pageview\\');\\n        </script>\\n\\n    </body>\\n\\n</html>\\n'"
      ]
     },
     "execution_count": 64,
     "metadata": {},
     "output_type": "execute_result"
    }
   ],
   "source": [
    "response.content"
   ]
  },
  {
   "cell_type": "markdown",
   "metadata": {},
   "source": [
    "##### 2. We've queried the API once, but it could get annoying to retype the url over and over again, create a function `make_api_request` that enables you to query the API.\n",
    "\n",
    "\n",
    " The parameters for the function should be:\n",
    "* lat (float) : latitude\n",
    "* lng (float) : longitude\n",
    "* date (string): Date in the format YYYY-MM\n",
    "    * default value = `None`\n",
    "    \n",
    "And it should return a json object of \n",
    "\n",
    "for more information on default values check out http://blog.thedigitalcatonline.com/blog/2015/02/11/default-arguments-in-python/"
   ]
  },
  {
   "cell_type": "code",
   "execution_count": null,
   "metadata": {},
   "outputs": [],
   "source": [
    "\n"
   ]
  },
  {
   "cell_type": "markdown",
   "metadata": {},
   "source": [
    "##### 3. Write a function `categories_of_crime` that will determine the count of each type of crime for a given latitude and longitude. This is labelled as 'category' in the records. Your function should call the `make_api_request` function you created.\n",
    "\n",
    "The parameters for the function should be:\n",
    "\n",
    "* lat (float) : latitude\n",
    "* lng (float) : longitude\n",
    "* date (str) default = None\n",
    "\n",
    "The function should return:\n",
    "* a dictionary with the count of each type of crime\n",
    "\n",
    "\n",
    "\n",
    "Once you've created the function, try it with these locations\n",
    "* lat, lng of 51.5017861,-0.1432319   (Buckingham Palace)\n",
    "* lat, lng of 53.480161, -2.245163     (Manchester)"
   ]
  },
  {
   "cell_type": "code",
   "execution_count": null,
   "metadata": {},
   "outputs": [],
   "source": [
    "\n"
   ]
  },
  {
   "cell_type": "markdown",
   "metadata": {},
   "source": [
    "**Bonus**: \n",
    "* Write a function that determines the difference between Buckingham Palace and Manchester in terms of the number of crimes in each category.\n",
    "    * In which category is there the largest absolute difference between the category of crime?\n",
    "* Create a histogram depiction of the categories of crime"
   ]
  },
  {
   "cell_type": "code",
   "execution_count": null,
   "metadata": {},
   "outputs": [],
   "source": [
    "\n"
   ]
  },
  {
   "cell_type": "markdown",
   "metadata": {},
   "source": [
    "##### 4. Create a function `find_outcome_statuses` that will determine outcome statuses for a given latitude and longitude and date (optional)?\n",
    "Investigate the data to determine where the outcome statuses are located.\n",
    "\n",
    "**NOTE**: You'll notice that some of these crimes do not have crime outcomes. Make these into the category of \"Not Resolved.\"\n",
    "\n",
    "**NOTE 2**: These might take a long time to execute if you do not specify a month\n",
    "\n",
    "**Bonus**: What is the ratio of crimes investigated to those not investigated? Is it higher near London or Manchester?"
   ]
  },
  {
   "cell_type": "code",
   "execution_count": null,
   "metadata": {},
   "outputs": [],
   "source": [
    "\n"
   ]
  },
  {
   "cell_type": "markdown",
   "metadata": {},
   "source": [
    "##### 5. Write a function `month_highest_crimes` that will return the month that had the highest number of crimes for a latitude, longitude and a year.\n",
    "\n",
    "Inputs\n",
    "* lat (float) : latitude\n",
    "* lng (float) : longitude\n",
    "* year (str) : in the format YYYY\n",
    "\n",
    "Output\n",
    "* month with highest crime (int)\n",
    "\n",
    "**Bonus** Make a graph of how the number of crimes changed over time for a year. This will likely require a new function. Is seasonality a factor? Do the type of crimes change over time?"
   ]
  },
  {
   "cell_type": "code",
   "execution_count": null,
   "metadata": {},
   "outputs": [],
   "source": [
    "\n"
   ]
  },
  {
   "cell_type": "markdown",
   "metadata": {},
   "source": [
    "### Bonus Open Ended Questions\n",
    "\n",
    "1. Take a look at the https://data.police.uk/docs/method/stops-street/ API. Is there a correlation between gender and being stopped and searched? How about race and being stopped and searched?"
   ]
  },
  {
   "cell_type": "code",
   "execution_count": null,
   "metadata": {},
   "outputs": [],
   "source": [
    "\n"
   ]
  }
 ],
 "metadata": {
  "kernelspec": {
   "display_name": "Python 3",
   "language": "python",
   "name": "python3"
  },
  "language_info": {
   "codemirror_mode": {
    "name": "ipython",
    "version": 3
   },
   "file_extension": ".py",
   "mimetype": "text/x-python",
   "name": "python",
   "nbconvert_exporter": "python",
   "pygments_lexer": "ipython3",
   "version": "3.6.6"
  }
 },
 "nbformat": 4,
 "nbformat_minor": 2
}
